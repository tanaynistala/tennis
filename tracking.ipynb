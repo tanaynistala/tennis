{
 "cells": [
  {
   "cell_type": "code",
   "execution_count": 11,
   "metadata": {},
   "outputs": [],
   "source": [
    "video_ids = range(1, 6)\n",
    "frame_skip = 60"
   ]
  },
  {
   "cell_type": "code",
   "execution_count": 12,
   "metadata": {},
   "outputs": [],
   "source": [
    "# Load the JSON metadata for each video and store the paths, hits, and serves\n",
    "import json\n",
    "\n",
    "labels = {}\n",
    "for id in video_ids:\n",
    "    with open(f'data/json/video{id}.json') as f:\n",
    "        video_data = json.load(f)\n",
    "\n",
    "        video_start = video_data['match']['start']\n",
    "        video_end = video_data['match']['end']\n",
    "        \n",
    "        # Create a dictionary to store the labels for each frame\n",
    "        video_labels = {\n",
    "            frame: {\n",
    "                'shot': None,\n",
    "                'player': None,\n",
    "                'side': None,\n",
    "                'type': None,\n",
    "            }\n",
    "            for frame in range(video_start, video_end)\n",
    "        }\n",
    "\n",
    "        # Add the labels for each hit\n",
    "        for hit in video_data['hits']:\n",
    "            hit_start = int(hit['start'])\n",
    "            hit_end = int(hit['end'])\n",
    "            hit_label = hit['custom']\n",
    "\n",
    "            for frame in range(hit_start, hit_end):\n",
    "                video_labels[frame] = {\n",
    "                    'shot': 'Hit',\n",
    "                    'player': hit_label['Player'], #near or far\n",
    "                    'side': hit_label['Side'],\n",
    "                    'type': hit_label['Type'],\n",
    "                }\n",
    "\n",
    "        # Add the labels for each serve\n",
    "        for serve in video_data['serves']:\n",
    "            serve_start = int(serve['start'])\n",
    "            serve_end = int(serve['end'])\n",
    "            serve_label = serve['custom']\n",
    "\n",
    "            for frame in range(serve_start, serve_end):\n",
    "                video_labels[frame] = {\n",
    "                    'shot': 'Serve',\n",
    "                    'player': serve_label['Player'], #near or far\n",
    "                    'side': serve_label['Result'],\n",
    "                    'type': None,\n",
    "                }\n",
    "\n",
    "        labels[id] = video_labels"
   ]
  },
  {
   "cell_type": "code",
   "execution_count": 13,
   "metadata": {},
   "outputs": [
    {
     "name": "stdout",
     "output_type": "stream",
     "text": [
      "[[1 25525 2 2 5 6]\n",
      " [1 25585 2 2 5 6]\n",
      " [1 25645 2 2 5 6]\n",
      " ...\n",
      " [5 106946 1 1 1 6]\n",
      " [5 107006 1 1 1 6]\n",
      " [5 107066 2 2 5 6]]\n"
     ]
    }
   ],
   "source": [
    "import numpy as np\n",
    "\n",
    "# Flatten the labels dictionary into a list of tuples\n",
    "frame_labels = np.array([\n",
    "    [id, frame, label['shot'], label['player'], label['side'], label['type']]\n",
    "    for id, video_labels in labels.items()\n",
    "    for frame, label in video_labels.items()\n",
    "])\n",
    "\n",
    "# Convert the shot, player, side, and type fields to ints\n",
    "from sklearn.preprocessing import LabelEncoder\n",
    "\n",
    "label_encoders = {}\n",
    "for i in range(2, 6):\n",
    "    label_encoders[i] = LabelEncoder()\n",
    "    frame_labels[:, i] = label_encoders[i].fit_transform(frame_labels[:, i])\n",
    "\n",
    "# Prune to every 10th frame\n",
    "frame_labels = frame_labels[::frame_skip]\n",
    "\n",
    "# Display the resulting NumPy array\n",
    "print(frame_labels)\n",
    "\n",
    "# Save the resulting NumPy array to a CSV file\n",
    "np.savetxt('data/labels.csv', frame_labels, delimiter=',', fmt='%s')"
   ]
  },
  {
   "cell_type": "code",
   "execution_count": 14,
   "metadata": {},
   "outputs": [
    {
     "name": "stdout",
     "output_type": "stream",
     "text": [
      "Videos loaded.                               \n"
     ]
    }
   ],
   "source": [
    "# Pull frames from the videos\n",
    "import cv2\n",
    "\n",
    "frames = {}\n",
    "for id in [2]:\n",
    "    video_path = f'data/videos/video{id}.mp4'\n",
    "    video = cv2.VideoCapture(video_path)\n",
    "\n",
    "    frames[id] = []\n",
    "    for frame_num in range(video_start, video_end, frame_skip):\n",
    "        print(f'Loading video {id}... ({frame_num-video_start}/{video_end-video_start})', end='\\r')\n",
    "        video.set(cv2.CAP_PROP_POS_FRAMES, frame_num)\n",
    "        ret, frame = video.read()\n",
    "        frames[id].append(frame)\n",
    "\n",
    "    video.release()\n",
    "print('Videos loaded. ' + ' '*30)"
   ]
  },
  {
   "cell_type": "code",
   "execution_count": 15,
   "metadata": {},
   "outputs": [
    {
     "name": "stdout",
     "output_type": "stream",
     "text": [
      "(1572, 720, 1280, 3)\n"
     ]
    }
   ],
   "source": [
    "num_frames = len(frames[2])\n",
    "frames_array = np.zeros((num_frames, 720, 1280, 3), dtype=np.uint8)\n",
    "for i, frame in enumerate(frames[2]):\n",
    "    frames_array[i] = frame\n",
    "\n",
    "print(frames_array.shape)"
   ]
  },
  {
   "cell_type": "code",
   "execution_count": 16,
   "metadata": {},
   "outputs": [
    {
     "name": "stdout",
     "output_type": "stream",
     "text": [
      "Processing frame 784/1572\r"
     ]
    }
   ],
   "source": [
    "import copy\n",
    "import matplotlib.pyplot as plt\n",
    "\n",
    "from src import util\n",
    "from src.body import Body\n",
    "\n",
    "body_estimation = Body('model/body_pose_model.pth')\n",
    "\n",
    "data = []\n",
    "labels = []\n",
    "for i in range(num_frames):\n",
    "    print(f'Processing frame {i}/{num_frames}', end='\\r')\n",
    "    img = frames_array[i]\n",
    "    candidate, subset = body_estimation(img)\n",
    "\n",
    "    if (subset.shape[0] != 1):\n",
    "        data.append(np.zeros((18, 2)))\n",
    "        labels.append(frame_labels[i])\n",
    "        continue\n",
    "    \n",
    "    candidate = candidate.astype(int)\n",
    "    subset = subset[:1].astype(int)\n",
    "\n",
    "    pose = np.zeros((18, 2))\n",
    "    for i in range(18):\n",
    "        if subset[0][i] > -1:\n",
    "            pose[i] = candidate[subset[0][i].astype(int), :2][0]\n",
    "    \n",
    "    data.append(pose)\n",
    "    labels.append(frame_labels[i])"
   ]
  },
  {
   "cell_type": "code",
   "execution_count": null,
   "metadata": {},
   "outputs": [],
   "source": [
    "np.save('data/poses.npy', data)\n",
    "np.save('data/pose_labels.npy', labels)"
   ]
  }
 ],
 "metadata": {
  "kernelspec": {
   "display_name": "Tennis",
   "language": "python",
   "name": "python3"
  },
  "language_info": {
   "codemirror_mode": {
    "name": "ipython",
    "version": 3
   },
   "file_extension": ".py",
   "mimetype": "text/x-python",
   "name": "python",
   "nbconvert_exporter": "python",
   "pygments_lexer": "ipython3",
   "version": "3.11.5"
  }
 },
 "nbformat": 4,
 "nbformat_minor": 2
}
