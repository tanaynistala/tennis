{
 "cells": [
  {
   "cell_type": "code",
   "execution_count": 23,
   "metadata": {},
   "outputs": [],
   "source": [
    "video_ids = range(1, 6)"
   ]
  },
  {
   "cell_type": "code",
   "execution_count": 24,
   "metadata": {},
   "outputs": [
    {
     "name": "stdout",
     "output_type": "stream",
     "text": [
      "{'shot': 'Serve', 'player': 'Near', 'type': 'In', 'side': None}\n"
     ]
    }
   ],
   "source": [
    "# Load the JSON metadata for each video and store the paths, hits, and serves\n",
    "import json\n",
    "\n",
    "data = {}\n",
    "for id in video_ids:\n",
    "    with open(f'data/json/video{id}.json') as f:\n",
    "        video_data = json.load(f)\n",
    "\n",
    "        video_start = video_data['match']['start']\n",
    "        video_end = video_data['match']['end']\n",
    "        video_labels = {}\n",
    "\n",
    "        # Initialize the labels for each frame\n",
    "        for frame in range(video_start, video_end):\n",
    "            video_labels[frame] = {}\n",
    "            video_labels[frame]['shot']   = None    # Hit / Serve / Other\n",
    "            video_labels[frame]['player'] = None    # Far / Near / Other\n",
    "            video_labels[frame]['type']   = None    # Topspin / Slice / Flat / Other\n",
    "            video_labels[frame]['side']   = None    # Forehand / Backhand / Smash / Other\n",
    "\n",
    "        # Add the labels for each hit\n",
    "        for hit in video_data['hits']:\n",
    "            hit_start = int(hit['start'])\n",
    "            hit_end = int(hit['end'])\n",
    "            hit_label = hit['custom']\n",
    "\n",
    "            for frame in range(hit_start, hit_end):\n",
    "                video_labels[frame]['shot'] = 'Hit'\n",
    "                video_labels[frame]['player'] = hit_label['Player']\n",
    "                video_labels[frame]['type'] = hit_label['Type']\n",
    "                video_labels[frame]['side'] = hit_label['Side']\n",
    "\n",
    "        # Add the labels for each serve\n",
    "        for serve in video_data['serves']:\n",
    "            serve_start = int(serve['start'])\n",
    "            serve_end = int(serve['end'])\n",
    "            serve_label = serve['custom']\n",
    "\n",
    "            for frame in range(serve_start, serve_end):\n",
    "                video_labels[frame]['shot'] = 'Serve'\n",
    "                video_labels[frame]['player'] = serve_label['Player']\n",
    "                video_labels[frame]['type'] = serve_label['Result']\n",
    "                video_labels[frame]['side'] = None\n",
    "\n",
    "        data[id] = video_labels"
   ]
  }
 ],
 "metadata": {
  "kernelspec": {
   "display_name": "Tennis",
   "language": "python",
   "name": "python3"
  },
  "language_info": {
   "codemirror_mode": {
    "name": "ipython",
    "version": 3
   },
   "file_extension": ".py",
   "mimetype": "text/x-python",
   "name": "python",
   "nbconvert_exporter": "python",
   "pygments_lexer": "ipython3",
   "version": "3.12.0"
  }
 },
 "nbformat": 4,
 "nbformat_minor": 2
}
