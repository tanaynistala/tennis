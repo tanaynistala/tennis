{
 "cells": [
  {
   "cell_type": "code",
   "execution_count": 1,
   "metadata": {},
   "outputs": [],
   "source": [
    "video_ids = range(1, 6)"
   ]
  },
  {
   "cell_type": "code",
   "execution_count": 2,
   "metadata": {},
   "outputs": [],
   "source": [
    "# Load the JSON metadata for each video and store the paths, hits, and serves\n",
    "import json\n",
    "\n",
    "data = {}\n",
    "for id in video_ids:\n",
    "    with open(f'data/json/video{id}.json') as f:\n",
    "        video_data = json.load(f)\n",
    "\n",
    "        video_start = video_data['match']['start']\n",
    "        video_end = video_data['match']['end']\n",
    "        \n",
    "        # Create a dictionary to store the labels for each frame\n",
    "        video_labels = {\n",
    "            frame: {\n",
    "                'shot': None,\n",
    "                'player': None,\n",
    "                'type': None,\n",
    "                'side': None\n",
    "            }\n",
    "            for frame in range(video_start, video_end)\n",
    "        }\n",
    "\n",
    "        # Add the labels for each hit\n",
    "        for hit in video_data['hits']:\n",
    "            hit_start = int(hit['start'])\n",
    "            hit_end = int(hit['end'])\n",
    "            hit_label = hit['custom']\n",
    "\n",
    "            for frame in range(hit_start, hit_end):\n",
    "                video_labels[frame] = {\n",
    "                    'shot': 'Hit',\n",
    "                    'player': hit_label['Player'],\n",
    "                    'type': hit_label['Type'],\n",
    "                    'side': hit_label['Side']\n",
    "                }\n",
    "\n",
    "        # Add the labels for each serve\n",
    "        for serve in video_data['serves']:\n",
    "            serve_start = int(serve['start'])\n",
    "            serve_end = int(serve['end'])\n",
    "            serve_label = serve['custom']\n",
    "\n",
    "            for frame in range(serve_start, serve_end):\n",
    "                video_labels[frame] = {\n",
    "                    'shot': 'Serve',\n",
    "                    'player': serve_label['Player'],\n",
    "                    'type': serve_label['Result'],\n",
    "                    'side': None\n",
    "                }\n",
    "\n",
    "        data[id] = video_labels"
   ]
  },
  {
   "cell_type": "code",
   "execution_count": 3,
   "metadata": {},
   "outputs": [],
   "source": [
    "import numpy as np\n",
    "\n",
    "# Convert the video labels into a numpy array\n",
    "num_frames = sum([len(video_labels) for video_labels in data.values()])\n",
    "labels = np.zeros((num_frames, 4), dtype=object)\n",
    "\n",
    "frame = 0\n",
    "for video_id, video_labels in data.items():\n",
    "    for frame, labels in video_labels.items():\n",
    "        labels[frame] = [labels['shot'], labels['player'], labels['type'], labels['side']]\n",
    "        frame += 1"
   ]
  },
  {
   "cell_type": "code",
   "execution_count": null,
   "metadata": {},
   "outputs": [],
   "source": []
  }
 ],
 "metadata": {
  "kernelspec": {
   "display_name": "Tennis",
   "language": "python",
   "name": "python3"
  },
  "language_info": {
   "codemirror_mode": {
    "name": "ipython",
    "version": 3
   },
   "file_extension": ".py",
   "mimetype": "text/x-python",
   "name": "python",
   "nbconvert_exporter": "python",
   "pygments_lexer": "ipython3",
   "version": "3.11.5"
  }
 },
 "nbformat": 4,
 "nbformat_minor": 2
}
